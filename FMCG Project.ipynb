{
 "cells": [
  {
   "cell_type": "code",
   "execution_count": 8,
   "id": "52d90490-80cc-41b7-97e7-90bd23da032d",
   "metadata": {},
   "outputs": [],
   "source": [
    "import pandas as pd\n",
    "import numpy as np"
   ]
  },
  {
   "cell_type": "code",
   "execution_count": 10,
   "id": "fb9ea99e-998c-4a95-b4dc-2d27f8422d26",
   "metadata": {},
   "outputs": [
    {
     "name": "stdout",
     "output_type": "stream",
     "text": [
      "<class 'pandas.core.frame.DataFrame'>\n",
      "RangeIndex: 224 entries, 0 to 223\n",
      "Data columns (total 7 columns):\n",
      " #   Column        Non-Null Count  Dtype \n",
      "---  ------        --------------  ----- \n",
      " 0   Month         224 non-null    object\n",
      " 1   Channel       224 non-null    object\n",
      " 2   Sub-Channels  224 non-null    object\n",
      " 3   Product Name  224 non-null    object\n",
      " 4   Category      224 non-null    object\n",
      " 5   Qty           224 non-null    object\n",
      " 6   Sales         224 non-null    object\n",
      "dtypes: object(7)\n",
      "memory usage: 12.4+ KB\n",
      "None\n"
     ]
    }
   ],
   "source": [
    "df =pd.read_csv('Raw Sales Data.csv')\n",
    "print(df.info())"
   ]
  },
  {
   "cell_type": "code",
   "execution_count": 105,
   "id": "3fc2e93a-5134-448f-973b-1acfdf97c429",
   "metadata": {},
   "outputs": [],
   "source": [
    "#1. Monthwise number of quantities sold"
   ]
  },
  {
   "cell_type": "code",
   "execution_count": 63,
   "id": "a17807de-da24-404a-bd42-26250741ee46",
   "metadata": {},
   "outputs": [
    {
     "data": {
      "text/html": [
       "<div>\n",
       "<style scoped>\n",
       "    .dataframe tbody tr th:only-of-type {\n",
       "        vertical-align: middle;\n",
       "    }\n",
       "\n",
       "    .dataframe tbody tr th {\n",
       "        vertical-align: top;\n",
       "    }\n",
       "\n",
       "    .dataframe thead th {\n",
       "        text-align: right;\n",
       "    }\n",
       "</style>\n",
       "<table border=\"1\" class=\"dataframe\">\n",
       "  <thead>\n",
       "    <tr style=\"text-align: right;\">\n",
       "      <th></th>\n",
       "      <th>Month</th>\n",
       "      <th>Qty</th>\n",
       "    </tr>\n",
       "  </thead>\n",
       "  <tbody>\n",
       "    <tr>\n",
       "      <th>0</th>\n",
       "      <td>01-Dec-20</td>\n",
       "      <td>85427</td>\n",
       "    </tr>\n",
       "    <tr>\n",
       "      <th>1</th>\n",
       "      <td>01-Feb-21</td>\n",
       "      <td>76393</td>\n",
       "    </tr>\n",
       "    <tr>\n",
       "      <th>2</th>\n",
       "      <td>01-Jan-21</td>\n",
       "      <td>67732</td>\n",
       "    </tr>\n",
       "    <tr>\n",
       "      <th>3</th>\n",
       "      <td>01-Mar-21</td>\n",
       "      <td>80229</td>\n",
       "    </tr>\n",
       "  </tbody>\n",
       "</table>\n",
       "</div>"
      ],
      "text/plain": [
       "       Month    Qty\n",
       "0  01-Dec-20  85427\n",
       "1  01-Feb-21  76393\n",
       "2  01-Jan-21  67732\n",
       "3  01-Mar-21  80229"
      ]
     },
     "execution_count": 63,
     "metadata": {},
     "output_type": "execute_result"
    }
   ],
   "source": [
    "import pandas as pd\n",
    "import numpy as np\n",
    "df = pd.read_csv('Raw Sales Data.csv')\n",
    "df['Qty'] = df['Qty'].str.replace(',', '')\n",
    "df['Qty'] = pd.to_numeric(df['Qty'], errors='coerce')\n",
    "monthwise_Qty = df.groupby(df['Month'])['Qty'].sum().reset_index() \n",
    "monthwise_Qty"
   ]
  },
  {
   "cell_type": "code",
   "execution_count": 94,
   "id": "ddfdb49e-4a3e-4695-b5cc-499e3aebaf52",
   "metadata": {},
   "outputs": [],
   "source": [
    "# 2. Category wise Qty sold\n"
   ]
  },
  {
   "cell_type": "code",
   "execution_count": 61,
   "id": "71a172bc-55ea-401d-83c1-f0d6eb18888b",
   "metadata": {
    "scrolled": true
   },
   "outputs": [
    {
     "data": {
      "text/html": [
       "<div>\n",
       "<style scoped>\n",
       "    .dataframe tbody tr th:only-of-type {\n",
       "        vertical-align: middle;\n",
       "    }\n",
       "\n",
       "    .dataframe tbody tr th {\n",
       "        vertical-align: top;\n",
       "    }\n",
       "\n",
       "    .dataframe thead th {\n",
       "        text-align: right;\n",
       "    }\n",
       "</style>\n",
       "<table border=\"1\" class=\"dataframe\">\n",
       "  <thead>\n",
       "    <tr style=\"text-align: right;\">\n",
       "      <th></th>\n",
       "      <th>Category</th>\n",
       "      <th>Qty</th>\n",
       "    </tr>\n",
       "  </thead>\n",
       "  <tbody>\n",
       "    <tr>\n",
       "      <th>0</th>\n",
       "      <td>Functional nutrition</td>\n",
       "      <td>42354</td>\n",
       "    </tr>\n",
       "    <tr>\n",
       "      <th>1</th>\n",
       "      <td>Gourmet Nutrition</td>\n",
       "      <td>89279</td>\n",
       "    </tr>\n",
       "    <tr>\n",
       "      <th>2</th>\n",
       "      <td>Juices</td>\n",
       "      <td>178148</td>\n",
       "    </tr>\n",
       "  </tbody>\n",
       "</table>\n",
       "</div>"
      ],
      "text/plain": [
       "               Category     Qty\n",
       "0  Functional nutrition   42354\n",
       "1     Gourmet Nutrition   89279\n",
       "2                Juices  178148"
      ]
     },
     "execution_count": 61,
     "metadata": {},
     "output_type": "execute_result"
    }
   ],
   "source": [
    "import pandas as pd\n",
    "import numpy as np\n",
    "df = pd.read_csv('Raw Sales Data.csv')\n",
    "df['Qty'] = df['Qty'].str.replace(',', '')\n",
    "df['Qty'] = pd.to_numeric(df['Qty'], errors='coerce')\n",
    "categorywise_Qty = df.groupby('Category')['Qty'].sum().reset_index()\n",
    "categorywise_Qty"
   ]
  },
  {
   "cell_type": "code",
   "execution_count": 114,
   "id": "51ba9be0-d55c-401b-908a-6af69b4d72c4",
   "metadata": {},
   "outputs": [],
   "source": [
    "# 3. Sub-channel wise total sales\n"
   ]
  },
  {
   "cell_type": "code",
   "execution_count": 59,
   "id": "8340849e-d024-44fd-90d8-21cb5ad18f0f",
   "metadata": {},
   "outputs": [
    {
     "data": {
      "text/html": [
       "<div>\n",
       "<style scoped>\n",
       "    .dataframe tbody tr th:only-of-type {\n",
       "        vertical-align: middle;\n",
       "    }\n",
       "\n",
       "    .dataframe tbody tr th {\n",
       "        vertical-align: top;\n",
       "    }\n",
       "\n",
       "    .dataframe thead th {\n",
       "        text-align: right;\n",
       "    }\n",
       "</style>\n",
       "<table border=\"1\" class=\"dataframe\">\n",
       "  <thead>\n",
       "    <tr style=\"text-align: right;\">\n",
       "      <th></th>\n",
       "      <th>Sub-Channels</th>\n",
       "      <th>Sales</th>\n",
       "    </tr>\n",
       "  </thead>\n",
       "  <tbody>\n",
       "    <tr>\n",
       "      <th>0</th>\n",
       "      <td>AMAZON</td>\n",
       "      <td>35606804</td>\n",
       "    </tr>\n",
       "    <tr>\n",
       "      <th>1</th>\n",
       "      <td>Big Basket</td>\n",
       "      <td>1207522</td>\n",
       "    </tr>\n",
       "    <tr>\n",
       "      <th>2</th>\n",
       "      <td>D2C</td>\n",
       "      <td>28047538</td>\n",
       "    </tr>\n",
       "    <tr>\n",
       "      <th>3</th>\n",
       "      <td>Flipkart</td>\n",
       "      <td>3770415</td>\n",
       "    </tr>\n",
       "    <tr>\n",
       "      <th>4</th>\n",
       "      <td>GOQII</td>\n",
       "      <td>582600</td>\n",
       "    </tr>\n",
       "    <tr>\n",
       "      <th>5</th>\n",
       "      <td>Offline - Central</td>\n",
       "      <td>375332</td>\n",
       "    </tr>\n",
       "    <tr>\n",
       "      <th>6</th>\n",
       "      <td>Offline - East</td>\n",
       "      <td>811146</td>\n",
       "    </tr>\n",
       "    <tr>\n",
       "      <th>7</th>\n",
       "      <td>Offline - MT</td>\n",
       "      <td>6257948</td>\n",
       "    </tr>\n",
       "    <tr>\n",
       "      <th>8</th>\n",
       "      <td>Offline - South</td>\n",
       "      <td>3446395</td>\n",
       "    </tr>\n",
       "    <tr>\n",
       "      <th>9</th>\n",
       "      <td>Offline - West</td>\n",
       "      <td>6441427</td>\n",
       "    </tr>\n",
       "    <tr>\n",
       "      <th>10</th>\n",
       "      <td>Offline -North</td>\n",
       "      <td>1206564</td>\n",
       "    </tr>\n",
       "  </tbody>\n",
       "</table>\n",
       "</div>"
      ],
      "text/plain": [
       "         Sub-Channels     Sales\n",
       "0              AMAZON  35606804\n",
       "1          Big Basket   1207522\n",
       "2                 D2C  28047538\n",
       "3            Flipkart   3770415\n",
       "4               GOQII    582600\n",
       "5   Offline - Central    375332\n",
       "6      Offline - East    811146\n",
       "7        Offline - MT   6257948\n",
       "8     Offline - South   3446395\n",
       "9      Offline - West   6441427\n",
       "10     Offline -North   1206564"
      ]
     },
     "execution_count": 59,
     "metadata": {},
     "output_type": "execute_result"
    }
   ],
   "source": [
    "import pandas as pd\n",
    "import numpy as np\n",
    "df = pd.read_csv('Raw Sales Data.csv')\n",
    "df['Sales'] = df['Sales'].str.replace(',', '')\n",
    "df['Sales'] = pd.to_numeric(df['Sales'], errors='coerce')\n",
    "subchannelwise_sales = df.groupby('Sub-Channels')['Sales'].sum().reset_index()\n",
    "subchannelwise_sales"
   ]
  },
  {
   "cell_type": "code",
   "execution_count": 118,
   "id": "88033e25-5728-4cd7-891c-20735451f281",
   "metadata": {},
   "outputs": [],
   "source": [
    " #4. Highest sale in which month\n"
   ]
  },
  {
   "cell_type": "code",
   "execution_count": 57,
   "id": "c75e3bb7-17fb-416d-89bd-b3311cac745c",
   "metadata": {},
   "outputs": [
    {
     "data": {
      "text/plain": [
       "Month    01-Mar-21\n",
       "Sales     25127827\n",
       "Name: 3, dtype: object"
      ]
     },
     "execution_count": 57,
     "metadata": {},
     "output_type": "execute_result"
    }
   ],
   "source": [
    "import pandas as pd\n",
    "import numpy as np\n",
    "df = pd.read_csv('Raw Sales Data.csv')\n",
    "df['Sales'] = df['Sales'].str.replace(',', '')\n",
    "df['Sales'] = pd.to_numeric(df['Sales'], errors='coerce')\n",
    "month_sales = df.groupby(df['Month'])['Sales'].sum().reset_index()\n",
    "highestsale_month = month_sales.loc[month_sales['Sales'].idxmax()]\n",
    "highestsale_month\n"
   ]
  },
  {
   "cell_type": "code",
   "execution_count": null,
   "id": "36acb887-b24d-41f1-8e2c-eef733e86e13",
   "metadata": {},
   "outputs": [],
   "source": [
    "# 5. Highest selling product (based on sales) (packaging quantity doesn't matter. Ex. consider \"GET SLIM\n",
    " #JUICE 1 L\" and \"GET SLIM JUICE 500 ML\" as one product)"
   ]
  },
  {
   "cell_type": "code",
   "execution_count": 55,
   "id": "6f78641c-26b4-48b3-a630-159990842bc6",
   "metadata": {},
   "outputs": [
    {
     "name": "stdout",
     "output_type": "stream",
     "text": [
      "Highest Selling Product:\n"
     ]
    },
    {
     "data": {
      "text/html": [
       "<div>\n",
       "<style scoped>\n",
       "    .dataframe tbody tr th:only-of-type {\n",
       "        vertical-align: middle;\n",
       "    }\n",
       "\n",
       "    .dataframe tbody tr th {\n",
       "        vertical-align: top;\n",
       "    }\n",
       "\n",
       "    .dataframe thead th {\n",
       "        text-align: right;\n",
       "    }\n",
       "</style>\n",
       "<table border=\"1\" class=\"dataframe\">\n",
       "  <thead>\n",
       "    <tr style=\"text-align: right;\">\n",
       "      <th></th>\n",
       "      <th>Cleaned Product Name</th>\n",
       "      <th>Sales</th>\n",
       "    </tr>\n",
       "  </thead>\n",
       "  <tbody>\n",
       "    <tr>\n",
       "      <th>1</th>\n",
       "      <td>ALOE + GARCINIA JUICE</td>\n",
       "      <td>12249252</td>\n",
       "    </tr>\n",
       "  </tbody>\n",
       "</table>\n",
       "</div>"
      ],
      "text/plain": [
       "    Cleaned Product Name     Sales\n",
       "1  ALOE + GARCINIA JUICE  12249252"
      ]
     },
     "execution_count": 55,
     "metadata": {},
     "output_type": "execute_result"
    }
   ],
   "source": [
    "import pandas as pd\n",
    "import re\n",
    "df =pd.read_csv('Raw Sales Data.csv')\n",
    "\n",
    "# Convert 'Sales' to numeric by removing commas\n",
    "df['Sales'] = df['Sales'].str.replace(',', '').astype(int)\n",
    "\n",
    "# Function to clean product name (remove size info)\n",
    "def clean_product_name(name):\n",
    "    return re.sub(r'\\s*\\b(\\d+\\s*(ML|L|GM|G|KG|LTR|GRAMS))\\b', '', name, flags=re.IGNORECASE).strip()\n",
    "\n",
    "# Apply the function to get cleaned names\n",
    "df['Cleaned Product Name'] = df['Product Name'].apply(clean_product_name)\n",
    "\n",
    "# Group by cleaned name and sum the sales\n",
    "grouped = df.groupby('Cleaned Product Name')['Sales'].sum().reset_index()\n",
    "\n",
    "# Sort and find the top-selling product\n",
    "top_product = grouped.sort_values(by='Sales', ascending=False).head(1)\n",
    "\n",
    "print(\"Highest Selling Product:\")\n",
    "top_product\n"
   ]
  },
  {
   "cell_type": "code",
   "execution_count": null,
   "id": "3c79fc1e-fde9-46e8-b3f4-8d4717b36f3d",
   "metadata": {},
   "outputs": [],
   "source": [
    "#6.List of different products company is offering (packaging quantity doesn't matter. Ex. consider \"GET\n",
    " #SLIM JUICE 1 L\" and \"GET SLIM JUICE 500 ML\" as one product)"
   ]
  },
  {
   "cell_type": "code",
   "execution_count": 161,
   "id": "22f8a6c2-5e8b-4980-a108-72cf98f4f1bf",
   "metadata": {},
   "outputs": [
    {
     "name": "stdout",
     "output_type": "stream",
     "text": [
      "List of different products:\n",
      "- ALOE + AMLA JUICE\n",
      "- ALOE + GARCINIA JUICE\n",
      "- ALOE VERA JUICE\n",
      "- ALOE VERA SKIN GEL\n",
      "- NEEM JUICE\n",
      "- NONI JUICE\n",
      "- SLIM SHAKE - CHOCOLATE\n",
      "- SLIM SHAKE - MANGO\n",
      "- TRIPHALA JUICE\n",
      "- TULSI GILOY JUICE\n",
      "- WHEAT GRASS JUICE\n",
      "- AMLA JUICE\n",
      "- GET SLIM JUICE\n",
      "- HIMALAYA OIL 20 GRMS\n",
      "- VIGOR MAX JUICE\n",
      "- ORGANIC JAGGERY POWDER\n",
      "- APPLE CIDER VINEGAR500 grams\n",
      "- VIRGIN COCONUT OIL\n",
      "- KARELA JAMUN JUICE\n",
      "- MASALA SUPERGRAIN MIX ENERGY ( OFFLINE)\n",
      "- MASALA SUPERGRAIN MIX IMMUNITY ( OFFLINE)\n",
      "- AMLA + GILOY JUICE\n",
      "- DIA FREE JUICE\n",
      "- IMMUNE CARE JUICE\n",
      "- MASALA SUPERGRAIN MIX IMMUNITY\n",
      "- ORGANIC GULKAND\n",
      "- VEGAN PROTEIN - CHOCOLATE\n",
      "- GET SLIM CAPSULES 60 CAPS\n",
      "- RAW HONEY ( MADHU)\n"
     ]
    }
   ],
   "source": [
    "import pandas as pd\n",
    "import re\n",
    "\n",
    "\n",
    "df = pd.read_csv('Raw Sales Data.csv')\n",
    "# Function to clean product name by removing quantity/size\n",
    "def clean_product_name(name):\n",
    "    return re.sub(r'\\s*\\b(\\d+\\s*(ML|L|LTR|GM|G|KG|GRAMS))\\b', '', name, flags=re.IGNORECASE).strip()\n",
    "\n",
    "# Apply function\n",
    "df['Cleaned Product Name'] = df['Product Name'].apply(clean_product_name)\n",
    "\n",
    "# Get unique product names\n",
    "unique_products = df['Cleaned Product Name'].unique()\n",
    "\n",
    "# Display list\n",
    "print(\"List of different products:\")\n",
    "for product in unique_products:\n",
    "    print(\"-\", product)\n",
    "\n"
   ]
  },
  {
   "cell_type": "code",
   "execution_count": 185,
   "id": "b1735429-25d6-47c1-a92d-2be70f21cd24",
   "metadata": {},
   "outputs": [],
   "source": [
    "p=pd.DataFrame(unique_products,columns=[\"Product\"])"
   ]
  },
  {
   "cell_type": "code",
   "execution_count": null,
   "id": "4765e458-ef3f-4af9-b59d-476a74322831",
   "metadata": {},
   "outputs": [],
   "source": [
    "#7. Create a single excel file to save all the outputs generated above in different subsheets. "
   ]
  },
  {
   "cell_type": "code",
   "execution_count": 191,
   "id": "ce2b4da5-de53-43e9-8e32-864218d70fd6",
   "metadata": {},
   "outputs": [],
   "source": [
    "writer = pd.ExcelWriter('FMCG_Summary.xlsx',engine='xlsxwriter')   \n",
    "df.to_excel(writer,sheet_name='complete data',index=False)   \n",
    "monthwise_Qty.to_excel(writer,sheet_name='ans 1',index=False)\n",
    "categorywise_Qty.to_excel(writer,sheet_name='ans 2',index=False)\n",
    "subchannelwise_sales.to_excel(writer,sheet_name='ans 3',index=False)\n",
    "highestsale_month.to_excel(writer,sheet_name='ans 4',index=False)\n",
    "top_product.to_excel(writer,sheet_name='ans 5',index=False)\n",
    "p.to_excel(writer,sheet_name='ans 6',index=False)\n",
    "writer.close()\n"
   ]
  },
  {
   "cell_type": "code",
   "execution_count": 131,
   "id": "1b8efadd-dff7-4463-9a44-8f93266f6433",
   "metadata": {},
   "outputs": [],
   "source": []
  },
  {
   "cell_type": "code",
   "execution_count": null,
   "id": "ff1a4b6f-2dac-457d-a73f-9d1e9148dfc5",
   "metadata": {},
   "outputs": [],
   "source": []
  }
 ],
 "metadata": {
  "kernelspec": {
   "display_name": "Python 3 (ipykernel)",
   "language": "python",
   "name": "python3"
  },
  "language_info": {
   "codemirror_mode": {
    "name": "ipython",
    "version": 3
   },
   "file_extension": ".py",
   "mimetype": "text/x-python",
   "name": "python",
   "nbconvert_exporter": "python",
   "pygments_lexer": "ipython3",
   "version": "3.12.4"
  }
 },
 "nbformat": 4,
 "nbformat_minor": 5
}
